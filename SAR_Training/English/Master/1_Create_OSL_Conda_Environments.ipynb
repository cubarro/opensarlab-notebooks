{
 "cells": [
  {
   "cell_type": "markdown",
   "metadata": {},
   "source": [
    "# Install Conda Environments in OpenSARlab using an environment.yml\n",
    "\n",
    "- Conda environments are isolated Python software environments. \n",
    "\n",
    "- They allow you to install and use multiple software configurations that would conflict with each other in a single environment.   "
   ]
  },
  {
   "cell_type": "code",
   "execution_count": 2,
   "metadata": {},
   "outputs": [],
   "source": [
    "import fileinput\n",
    "import ipywidgets\n",
    "import os\n",
    "from pathlib import Path\n",
    "\n",
    "from IPython.display import Markdown, display, HTML"
   ]
  },
  {
   "cell_type": "markdown",
   "metadata": {},
   "source": [
    "### List Currently Installed Conda Environments"
   ]
  },
  {
   "cell_type": "code",
   "execution_count": 3,
   "metadata": {},
   "outputs": [
    {
     "name": "stdout",
     "output_type": "stream",
     "text": [
      "# conda environments:\n",
      "#\n",
      "base                  *  /opt/conda\n",
      "\n"
     ]
    }
   ],
   "source": [
    "!mamba env list"
   ]
  },
  {
   "cell_type": "markdown",
   "metadata": {},
   "source": [
    "---\n",
    "### Build an ASF Conda Environment or Create Your Own\n",
    "\n",
    "- ASF data recipe environments are defined in `yaml` files in the `~/conda_environments/Environment_Configs` directory\n",
    "\n",
    "**Note: to be seen and built using this notebook, new environment.yml files should be:**\n",
    "- stored in /home/jovyan/Environment_Configs\n",
    "- named so that they end in `_env.yml` or `_env.yaml`\n",
    "\n",
    "### Run the code cell below for a link to an example minimal environment for OpenSARLab\n",
    "- supports ipywidgets and interactive matplotlib plots"
   ]
  },
  {
   "cell_type": "code",
   "execution_count": 4,
   "metadata": {},
   "outputs": [
    {
     "data": {
      "text/html": [
       "<a href='Environment_Configs/minimal_notebook_env.yaml'>/home/jovyan/conda_environments/Environment_Configs/minimal_notebook_env.yaml</a>"
      ],
      "text/plain": [
       "<IPython.core.display.HTML object>"
      ]
     },
     "metadata": {},
     "output_type": "display_data"
    }
   ],
   "source": [
    "yaml_path = Path.cwd()/'Environment_Configs/minimal_notebook_env.yaml'\n",
    "relative_path = yaml_path.relative_to(Path.cwd())    \n",
    "link = f\"<a href='{relative_path}'>{yaml_path}</a>\"\n",
    "html = HTML(link)\n",
    "display(html)"
   ]
  },
  {
   "cell_type": "markdown",
   "metadata": {},
   "source": [
    "---\n",
    "### Select a Conda Environment to Create"
   ]
  },
  {
   "cell_type": "code",
   "execution_count": 5,
   "metadata": {},
   "outputs": [
    {
     "data": {
      "text/markdown": [
       "<text style=color:green><br><strong>Select an Environment to Create:</strong></text>"
      ],
      "text/plain": [
       "<IPython.core.display.Markdown object>"
      ]
     },
     "metadata": {},
     "output_type": "display_data"
    },
    {
     "data": {
      "application/vnd.jupyter.widget-view+json": {
       "model_id": "d1077c3414e44d0b8bc5355ee8d53f45",
       "version_major": 2,
       "version_minor": 0
      },
      "text/plain": [
       "RadioButtons(layout=Layout(height='180px', width='1000px'), options=('machine_learning', 'NISAR_SE', 'unavco',…"
      ]
     },
     "metadata": {},
     "output_type": "display_data"
    }
   ],
   "source": [
    "env_ymls = list(Path.cwd().rglob(\"Environment_Configs/*.y*ml\"))\n",
    "\n",
    "yml_dict = {fileinput.filename():f.split('name: ')[1].strip('\\n') for f in fileinput.input(env_ymls) if fileinput.isfirstline()}\n",
    "names = [v for v in yml_dict.values()]\n",
    "if len(names) > len(set(names)):\n",
    "    dups = {}\n",
    "    \n",
    "    for k, v in yml_dict.items():\n",
    "        dups.setdefault(v, []).append(k)\n",
    "    dups = {k:v for (k,v) in dups.items() if len(dups[k]) > 1}\n",
    "    display(Markdown(f'<text style=color:red><strong>WARNING:</text>'))\n",
    "    display(Markdown(f'<text style=color:red>Duplicate environment names found in /home/jovyan/conda_environments/Environment_Configs/*.yml files.</text>'))\n",
    "    display(Markdown(f'<text style=color:red>Creating an env with the same name as an existing env will overwrite the original.</text>'))\n",
    "    display(Markdown(f'<text style=color:green><br><strong>RECOMMENDATION:</strong></text>'))\n",
    "    display(Markdown(f'<text style=color:green>Edit the environment names on the first lines of the YMLs to eliminate duplicates.</text>'))\n",
    "    display(Markdown(f'<text style=color:green>If you see multiple similarly named YMLs, some of whose filenames have a timestamp appended to them, this is a result of YML updates.</text>'))\n",
    "    display(Markdown(f'<text style=color:green>In this case, the YML without a timestamp is the latest version and, unless you have made customizations to the old versions, you may safely delete them.</text>'))\n",
    "    \n",
    "    for d in dups:\n",
    "        print(f'YMLs using the environment name \"{d}\":')\n",
    "        for pth in dups[d]:\n",
    "            print(pth)\n",
    "    options = [f\"{yml_dict[k]} ---> {k}\" for k in yml_dict]\n",
    "else:\n",
    "    options = [yml_dict[k] for k in yml_dict]\n",
    "\n",
    "display(Markdown(f'<text style=color:green><br><strong>Select an Environment to Create:</strong></text>'))\n",
    "height = len(env_ymls) * 20\n",
    "names =  ipywidgets.RadioButtons(\n",
    "    options=options,\n",
    "    description=\"\",\n",
    "    disabled=False,\n",
    "    layout=ipywidgets.Layout(height=f\"{height}px\", width='1000px')\n",
    ")\n",
    "names\n"
   ]
  },
  {
   "cell_type": "markdown",
   "metadata": {},
   "source": [
    "---\n",
    "### Collect the Environment Name, Prefix, and Path to its env.yml"
   ]
  },
  {
   "cell_type": "code",
   "execution_count": 6,
   "metadata": {},
   "outputs": [],
   "source": [
    "name = names.value\n",
    "if '--->' in name:\n",
    "    name, yml = name.split(' ---> ')\n",
    "else:\n",
    "    yml = {v:k for k,v in yml_dict.items()}[name]\n",
    "prefix = f\"/home/jovyan/.local/envs/{name}\""
   ]
  },
  {
   "cell_type": "markdown",
   "metadata": {},
   "source": [
    "---\n",
    "### Create the Environment, change its display name, and run any needed shell scripts\n",
    "- This will overwrite an existing environment with the same name instead of updating it, which is the safer option for environments that change PATH and/or PYTHONPATH\n",
    "- custom shell scripts \n",
    "    - save in `~/conda_environments/Scripts`\n",
    "    - append an `elif` statement to the `if`/`elif` statements below to run it"
   ]
  },
  {
   "cell_type": "code",
   "execution_count": 7,
   "metadata": {},
   "outputs": [
    {
     "name": "stdout",
     "output_type": "stream",
     "text": [
      "Preparing transaction: ...working... done\n",
      "Verifying transaction: ...working... done\n",
      "Executing transaction: ...working... done\n",
      "Preparing transaction: ...working... done\n",
      "Verifying transaction: ...working... done\n",
      "Executing transaction: ...working... done\n",
      "Installing pip dependencies: ...working... done\n",
      "{\n",
      "  \"argv\": [\n",
      "    \"bash\",\n",
      "    \"-c\",\n",
      "    \"source \\\"/opt/conda/bin/activate\\\" \\\"/home/jovyan/.local/envs/insar_analysis\\\" && exec /home/jovyan/.local/envs/insar_analysis/bin/python -m ipykernel_launcher -f '{connection_file}' \"\n",
      "  ],\n",
      "  \"display_name\": \"insar_analysis\",\n",
      "  \"language\": \"python\",\n",
      "  \"metadata\": {\n",
      "    \"debugger\": true\n",
      "  }\n",
      "}\n",
      "\n",
      "Wrote to /home/jovyan/.local/envs/insar_analysis/share/jupyter/kernels/python3/kernel.json\n",
      "\n",
      "Cloning into '/home/jovyan/.local/ARIA-tools'...\n",
      "remote: Enumerating objects: 2908, done.\u001b[K\n",
      "remote: Counting objects: 100% (1047/1047), done.\u001b[K\n",
      "remote: Compressing objects: 100% (220/220), done.\u001b[K\n",
      "remote: Total 2908 (delta 911), reused 880 (delta 808), pack-reused 1861\u001b[K\n",
      "Receiving objects: 100% (2908/2908), 1.60 MiB | 1.97 MiB/s, done.\n",
      "Resolving deltas: 100% (1972/1972), done.\n",
      "ARIA-tools v1.1.2-1 2021-07-29\n",
      "Installing ARIA-tools without support for RelaxIV\n",
      "running build\n",
      "running build_py\n",
      "creating build\n",
      "creating build/lib\n",
      "creating build/lib/ARIAtools\n",
      "copying tools/ARIAtools/tsSetup.py -> build/lib/ARIAtools\n",
      "copying tools/ARIAtools/computeMisclosure.py -> build/lib/ARIAtools\n",
      "copying tools/ARIAtools/unwrapStitching.py -> build/lib/ARIAtools\n",
      "copying tools/ARIAtools/phaseMinimization.py -> build/lib/ARIAtools\n",
      "copying tools/ARIAtools/shapefile_util.py -> build/lib/ARIAtools\n",
      "copying tools/ARIAtools/logger.py -> build/lib/ARIAtools\n",
      "copying tools/ARIAtools/ARIAProduct.py -> build/lib/ARIAtools\n",
      "copying tools/ARIAtools/vrtmanager.py -> build/lib/ARIAtools\n",
      "copying tools/ARIAtools/url_manager.py -> build/lib/ARIAtools\n",
      "copying tools/ARIAtools/extractProduct.py -> build/lib/ARIAtools\n",
      "copying tools/ARIAtools/kml2box.py -> build/lib/ARIAtools\n",
      "copying tools/ARIAtools/productPlot.py -> build/lib/ARIAtools\n",
      "copying tools/ARIAtools/progBar.py -> build/lib/ARIAtools\n",
      "copying tools/ARIAtools/mask_util.py -> build/lib/ARIAtools\n",
      "running build_scripts\n",
      "creating build/scripts-3.10\n",
      "copying and adjusting tools/bin/ariaPlot.py -> build/scripts-3.10\n",
      "copying and adjusting tools/bin/ariaDownload.py -> build/scripts-3.10\n",
      "copying and adjusting tools/bin/ariaExtract.py -> build/scripts-3.10\n",
      "copying and adjusting tools/bin/ariaTSsetup.py -> build/scripts-3.10\n",
      "copying and adjusting tools/bin/ariaAOIassist.py -> build/scripts-3.10\n",
      "copying and adjusting tools/bin/ariaMisclosure.py -> build/scripts-3.10\n",
      "changing mode of build/scripts-3.10/ariaPlot.py from 644 to 755\n",
      "changing mode of build/scripts-3.10/ariaDownload.py from 644 to 755\n",
      "changing mode of build/scripts-3.10/ariaExtract.py from 644 to 755\n",
      "changing mode of build/scripts-3.10/ariaTSsetup.py from 644 to 755\n",
      "changing mode of build/scripts-3.10/ariaAOIassist.py from 644 to 755\n",
      "changing mode of build/scripts-3.10/ariaMisclosure.py from 644 to 755\n",
      "\n",
      "/opt/conda/lib/python3.10/site-packages/setuptools/dist.py:530: UserWarning: Normalizing 'v1.1.2' to '1.1.2'\n",
      "  warnings.warn(tmpl.format(**locals()))\n",
      "\n",
      "ARIA-tools v1.1.2-1 2021-07-29\n",
      "Installing ARIA-tools without support for RelaxIV\n",
      "running install\n",
      "running bdist_egg\n",
      "running egg_info\n",
      "creating ARIAtools.egg-info\n",
      "writing ARIAtools.egg-info/PKG-INFO\n",
      "writing dependency_links to ARIAtools.egg-info/dependency_links.txt\n",
      "writing top-level names to ARIAtools.egg-info/top_level.txt\n",
      "writing manifest file 'ARIAtools.egg-info/SOURCES.txt'\n",
      "reading manifest file 'ARIAtools.egg-info/SOURCES.txt'\n",
      "adding license file 'LICENSE'\n",
      "writing manifest file 'ARIAtools.egg-info/SOURCES.txt'\n",
      "installing library code to build/bdist.linux-x86_64/egg\n",
      "running install_lib\n",
      "running build_py\n",
      "creating build/bdist.linux-x86_64\n",
      "creating build/bdist.linux-x86_64/egg\n",
      "creating build/bdist.linux-x86_64/egg/ARIAtools\n",
      "copying build/lib/ARIAtools/tsSetup.py -> build/bdist.linux-x86_64/egg/ARIAtools\n",
      "copying build/lib/ARIAtools/computeMisclosure.py -> build/bdist.linux-x86_64/egg/ARIAtools\n",
      "copying build/lib/ARIAtools/unwrapStitching.py -> build/bdist.linux-x86_64/egg/ARIAtools\n",
      "copying build/lib/ARIAtools/phaseMinimization.py -> build/bdist.linux-x86_64/egg/ARIAtools\n",
      "copying build/lib/ARIAtools/shapefile_util.py -> build/bdist.linux-x86_64/egg/ARIAtools\n",
      "copying build/lib/ARIAtools/logger.py -> build/bdist.linux-x86_64/egg/ARIAtools\n",
      "copying build/lib/ARIAtools/ARIAProduct.py -> build/bdist.linux-x86_64/egg/ARIAtools\n",
      "copying build/lib/ARIAtools/vrtmanager.py -> build/bdist.linux-x86_64/egg/ARIAtools\n",
      "copying build/lib/ARIAtools/url_manager.py -> build/bdist.linux-x86_64/egg/ARIAtools\n",
      "copying build/lib/ARIAtools/extractProduct.py -> build/bdist.linux-x86_64/egg/ARIAtools\n",
      "copying build/lib/ARIAtools/kml2box.py -> build/bdist.linux-x86_64/egg/ARIAtools\n",
      "copying build/lib/ARIAtools/productPlot.py -> build/bdist.linux-x86_64/egg/ARIAtools\n",
      "copying build/lib/ARIAtools/progBar.py -> build/bdist.linux-x86_64/egg/ARIAtools\n",
      "copying build/lib/ARIAtools/mask_util.py -> build/bdist.linux-x86_64/egg/ARIAtools\n",
      "byte-compiling build/bdist.linux-x86_64/egg/ARIAtools/tsSetup.py to tsSetup.cpython-310.pyc\n",
      "byte-compiling build/bdist.linux-x86_64/egg/ARIAtools/computeMisclosure.py to computeMisclosure.cpython-310.pyc\n",
      "byte-compiling build/bdist.linux-x86_64/egg/ARIAtools/unwrapStitching.py to unwrapStitching.cpython-310.pyc\n",
      "byte-compiling build/bdist.linux-x86_64/egg/ARIAtools/phaseMinimization.py to phaseMinimization.cpython-310.pyc\n",
      "byte-compiling build/bdist.linux-x86_64/egg/ARIAtools/shapefile_util.py to shapefile_util.cpython-310.pyc\n",
      "byte-compiling build/bdist.linux-x86_64/egg/ARIAtools/logger.py to logger.cpython-310.pyc\n",
      "byte-compiling build/bdist.linux-x86_64/egg/ARIAtools/ARIAProduct.py to ARIAProduct.cpython-310.pyc\n",
      "byte-compiling build/bdist.linux-x86_64/egg/ARIAtools/vrtmanager.py to vrtmanager.cpython-310.pyc\n",
      "byte-compiling build/bdist.linux-x86_64/egg/ARIAtools/url_manager.py to url_manager.cpython-310.pyc\n",
      "byte-compiling build/bdist.linux-x86_64/egg/ARIAtools/extractProduct.py to extractProduct.cpython-310.pyc\n",
      "byte-compiling build/bdist.linux-x86_64/egg/ARIAtools/kml2box.py to kml2box.cpython-310.pyc\n",
      "byte-compiling build/bdist.linux-x86_64/egg/ARIAtools/productPlot.py to productPlot.cpython-310.pyc\n",
      "byte-compiling build/bdist.linux-x86_64/egg/ARIAtools/progBar.py to progBar.cpython-310.pyc\n",
      "byte-compiling build/bdist.linux-x86_64/egg/ARIAtools/mask_util.py to mask_util.cpython-310.pyc\n",
      "creating build/bdist.linux-x86_64/egg/EGG-INFO\n",
      "installing scripts to build/bdist.linux-x86_64/egg/EGG-INFO/scripts\n",
      "running install_scripts\n",
      "running build_scripts\n",
      "creating build/bdist.linux-x86_64/egg/EGG-INFO/scripts\n",
      "copying build/scripts-3.10/ariaTSsetup.py -> build/bdist.linux-x86_64/egg/EGG-INFO/scripts\n",
      "copying build/scripts-3.10/ariaPlot.py -> build/bdist.linux-x86_64/egg/EGG-INFO/scripts\n",
      "copying build/scripts-3.10/ariaAOIassist.py -> build/bdist.linux-x86_64/egg/EGG-INFO/scripts\n",
      "copying build/scripts-3.10/ariaExtract.py -> build/bdist.linux-x86_64/egg/EGG-INFO/scripts\n",
      "copying build/scripts-3.10/ariaDownload.py -> build/bdist.linux-x86_64/egg/EGG-INFO/scripts\n",
      "copying build/scripts-3.10/ariaMisclosure.py -> build/bdist.linux-x86_64/egg/EGG-INFO/scripts\n",
      "changing mode of build/bdist.linux-x86_64/egg/EGG-INFO/scripts/ariaTSsetup.py to 755\n",
      "changing mode of build/bdist.linux-x86_64/egg/EGG-INFO/scripts/ariaPlot.py to 755\n",
      "changing mode of build/bdist.linux-x86_64/egg/EGG-INFO/scripts/ariaAOIassist.py to 755\n",
      "changing mode of build/bdist.linux-x86_64/egg/EGG-INFO/scripts/ariaExtract.py to 755\n",
      "changing mode of build/bdist.linux-x86_64/egg/EGG-INFO/scripts/ariaDownload.py to 755\n",
      "changing mode of build/bdist.linux-x86_64/egg/EGG-INFO/scripts/ariaMisclosure.py to 755\n",
      "copying ARIAtools.egg-info/PKG-INFO -> build/bdist.linux-x86_64/egg/EGG-INFO\n",
      "copying ARIAtools.egg-info/SOURCES.txt -> build/bdist.linux-x86_64/egg/EGG-INFO\n",
      "copying ARIAtools.egg-info/dependency_links.txt -> build/bdist.linux-x86_64/egg/EGG-INFO\n",
      "copying ARIAtools.egg-info/top_level.txt -> build/bdist.linux-x86_64/egg/EGG-INFO\n",
      "creating dist\n",
      "creating 'dist/ARIAtools-1.1.2-py3.10.egg' and adding 'build/bdist.linux-x86_64/egg' to it\n",
      "removing 'build/bdist.linux-x86_64/egg' (and everything under it)\n",
      "Processing ARIAtools-1.1.2-py3.10.egg\n",
      "Copying ARIAtools-1.1.2-py3.10.egg to /opt/conda/lib/python3.10/site-packages\n",
      "Adding ARIAtools 1.1.2 to easy-install.pth file\n",
      "Installing ariaAOIassist.py script to /opt/conda/bin\n",
      "Installing ariaDownload.py script to /opt/conda/bin\n",
      "Installing ariaExtract.py script to /opt/conda/bin\n",
      "Installing ariaMisclosure.py script to /opt/conda/bin\n",
      "Installing ariaPlot.py script to /opt/conda/bin\n",
      "Installing ariaTSsetup.py script to /opt/conda/bin\n",
      "\n",
      "Installed /opt/conda/lib/python3.10/site-packages/ARIAtools-1.1.2-py3.10.egg\n",
      "Processing dependencies for ARIAtools==1.1.2\n",
      "Finished processing dependencies for ARIAtools==1.1.2\n",
      "\n",
      "/opt/conda/lib/python3.10/site-packages/setuptools/dist.py:530: UserWarning: Normalizing 'v1.1.2' to '1.1.2'\n",
      "  warnings.warn(tmpl.format(**locals()))\n",
      "/opt/conda/lib/python3.10/site-packages/setuptools/command/install.py:34: SetuptoolsDeprecationWarning: setup.py install is deprecated. Use build and pip and other standards-based tools.\n",
      "  warnings.warn(\n",
      "/opt/conda/lib/python3.10/site-packages/setuptools/command/easy_install.py:144: EasyInstallDeprecationWarning: easy_install command is deprecated. Use build and pip and other standards-based tools.\n",
      "  warnings.warn(\n",
      "zip_safe flag not set; analyzing archive contents...\n",
      "\n",
      "Cloning into '/home/jovyan/ARIA-tools-docs'...\n",
      "remote: Enumerating objects: 88, done.\u001b[K\n",
      "remote: Counting objects: 100% (88/88), done.\u001b[K\n",
      "remote: Compressing objects: 100% (82/82), done.\u001b[K\n",
      "remote: Total 88 (delta 1), reused 80 (delta 1), pack-reused 0\u001b[K\n",
      "Receiving objects: 100% (88/88), 55.46 MiB | 22.55 MiB/s, done.\n",
      "Resolving deltas: 100% (1/1), done.\n"
     ]
    }
   ],
   "source": [
    "# Creates the environment\n",
    "!mamba env create -f $yml --prefix $prefix -q --force\n",
    "\n",
    "# Without running this, every environment would appear in the GUI with the same name, 'Python 3'\n",
    "!mamba run -n $name kernda --display-name $name -o $prefix/share/jupyter/kernels/python3/kernel.json\n",
    "\n",
    "# Runs any associated shell scripts\n",
    "if name == \"insar_analysis\":\n",
    "    !source \"Scripts/install_insar_analysis_pkgs.sh\"\n",
    "elif name == \"train\":\n",
    "    !source \"Scripts/train.sh\"\n",
    "elif name == \"unavco\":\n",
    "    !source \"Scripts/unavco.sh\"\n",
    "elif name == \"NISAR_SE\":\n",
    "    !source \"Scripts/nisar_se.sh\""
   ]
  },
  {
   "cell_type": "markdown",
   "metadata": {},
   "source": [
    "---\n",
    "### Remove unused packages and caches."
   ]
  },
  {
   "cell_type": "code",
   "execution_count": 8,
   "metadata": {
    "pycharm": {
     "name": "#%%\n"
    }
   },
   "outputs": [
    {
     "name": "stdout",
     "output_type": "stream",
     "text": [
      "\n",
      "                  __    __    __    __\n",
      "                 /  \\  /  \\  /  \\  /  \\\n",
      "                /    \\/    \\/    \\/    \\\n",
      "███████████████/  /██/  /██/  /██/  /████████████████████████\n",
      "              /  / \\   / \\   / \\   / \\  \\____\n",
      "             /  /   \\_/   \\_/   \\_/   \\    o \\__,\n",
      "            / _/                       \\_____/  `\n",
      "            |/\n",
      "        ███╗   ███╗ █████╗ ███╗   ███╗██████╗  █████╗\n",
      "        ████╗ ████║██╔══██╗████╗ ████║██╔══██╗██╔══██╗\n",
      "        ██╔████╔██║███████║██╔████╔██║██████╔╝███████║\n",
      "        ██║╚██╔╝██║██╔══██║██║╚██╔╝██║██╔══██╗██╔══██║\n",
      "        ██║ ╚═╝ ██║██║  ██║██║ ╚═╝ ██║██████╔╝██║  ██║\n",
      "        ╚═╝     ╚═╝╚═╝  ╚═╝╚═╝     ╚═╝╚═════╝ ╚═╝  ╚═╝\n",
      "\n",
      "        mamba (1.3.1) supported by @QuantStack\n",
      "\n",
      "        GitHub:  https://github.com/mamba-org/mamba\n",
      "        Twitter: https://twitter.com/QuantStack\n",
      "\n",
      "█████████████████████████████████████████████████████████████\n",
      "\n",
      "Will remove 445 (750.6 MB) tarball(s).\n",
      "Will remove 549 (4.11 GB) package(s).\n",
      "WARNING: cannot remove, file permissions: /opt/conda/pkgs/ca-certificates-2022.12.7-ha878542_0\n",
      "WARNING: cannot remove, file permissions: /opt/conda/pkgs/certifi-2022.12.7-pyhd8ed1ab_0\n",
      "WARNING: cannot remove, file permissions: /opt/conda/pkgs/conda-23.1.0-py310hff52083_0\n",
      "WARNING: cannot remove, file permissions: /opt/conda/pkgs/cryptography-39.0.2-py310h34c0648_0\n",
      "WARNING: cannot remove, file permissions: /opt/conda/pkgs/fmt-9.1.0-h924138e_0\n",
      "WARNING: cannot remove, file permissions: /opt/conda/pkgs/krb5-1.20.1-h81ceb04_0\n",
      "WARNING: cannot remove, file permissions: /opt/conda/pkgs/libarchive-3.6.2-h3d51595_0\n",
      "WARNING: cannot remove, file permissions: /opt/conda/pkgs/libcurl-7.88.1-hdc1c0ab_0\n",
      "WARNING: cannot remove, file permissions: /opt/conda/pkgs/libiconv-1.17-h166bdaf_0\n",
      "WARNING: cannot remove, file permissions: /opt/conda/pkgs/libmamba-1.3.1-hcea66bb_2\n",
      "WARNING: cannot remove, file permissions: /opt/conda/pkgs/libmambapy-1.3.1-py310h1428755_2\n",
      "WARNING: cannot remove, file permissions: /opt/conda/pkgs/libnghttp2-1.52.0-h61bc06f_0\n",
      "WARNING: cannot remove, file permissions: /opt/conda/pkgs/libsolv-0.7.23-h3eb15da_0\n",
      "WARNING: cannot remove, file permissions: /opt/conda/pkgs/libssh2-1.10.0-hf14f497_3\n",
      "WARNING: cannot remove, file permissions: /opt/conda/pkgs/libxml2-2.10.3-h7463322_0\n",
      "WARNING: cannot remove, file permissions: /opt/conda/pkgs/libxslt-1.1.37-h873f0b0_0\n",
      "WARNING: cannot remove, file permissions: /opt/conda/pkgs/libzlib-1.2.13-h166bdaf_4\n",
      "WARNING: cannot remove, file permissions: /opt/conda/pkgs/mamba-1.3.1-py310h51d5547_2\n",
      "WARNING: cannot remove, file permissions: /opt/conda/pkgs/nodejs-17.9.0-h8839609_0\n",
      "WARNING: cannot remove, file permissions: /opt/conda/pkgs/openssl-3.0.8-h0b41bf4_0\n",
      "WARNING: cannot remove, file permissions: /opt/conda/pkgs/pip-23.0.1-pyhd8ed1ab_0\n",
      "WARNING: cannot remove, file permissions: /opt/conda/pkgs/pluggy-1.0.0-pyhd8ed1ab_5\n",
      "WARNING: cannot remove, file permissions: /opt/conda/pkgs/pycurl-7.45.1-py310h60f9ec7_3\n",
      "WARNING: cannot remove, file permissions: /opt/conda/pkgs/python-3.10.6-ha86cf86_0_cpython\n",
      "WARNING: cannot remove, file permissions: /opt/conda/pkgs/zlib-1.2.13-h166bdaf_4\n",
      "WARNING: cannot remove, file permissions: /opt/conda/pkgs/aiohttp-3.8.4-py310h1fa729e_0\n",
      "WARNING: cannot remove, file permissions: /opt/conda/pkgs/aiosignal-1.3.1-pyhd8ed1ab_0\n",
      "WARNING: cannot remove, file permissions: /opt/conda/pkgs/async-timeout-4.0.2-pyhd8ed1ab_0\n",
      "WARNING: cannot remove, file permissions: /opt/conda/pkgs/awscli-1.27.86-py310hff52083_0\n",
      "WARNING: cannot remove, file permissions: /opt/conda/pkgs/bokeh-2.4.3-pyhd8ed1ab_3\n",
      "WARNING: cannot remove, file permissions: /opt/conda/pkgs/bokeh-3.0.3-pyhd8ed1ab_0\n",
      "WARNING: cannot remove, file permissions: /opt/conda/pkgs/boto3-1.26.86-pyhd8ed1ab_0\n",
      "WARNING: cannot remove, file permissions: /opt/conda/pkgs/botocore-1.29.86-pyhd8ed1ab_0\n",
      "WARNING: cannot remove, file permissions: /opt/conda/pkgs/brotli-1.0.9-h166bdaf_8\n",
      "WARNING: cannot remove, file permissions: /opt/conda/pkgs/brotli-bin-1.0.9-h166bdaf_8\n",
      "WARNING: cannot remove, file permissions: /opt/conda/pkgs/click-8.1.3-unix_pyhd8ed1ab_2\n",
      "WARNING: cannot remove, file permissions: /opt/conda/pkgs/cloudpickle-2.2.1-pyhd8ed1ab_0\n",
      "WARNING: cannot remove, file permissions: /opt/conda/pkgs/colorama-0.4.4-pyh9f0ad1d_0\n",
      "WARNING: cannot remove, file permissions: /opt/conda/pkgs/contourpy-1.0.7-py310hdf3cbec_0\n",
      "WARNING: cannot remove, file permissions: /opt/conda/pkgs/cycler-0.11.0-pyhd8ed1ab_0\n",
      "WARNING: cannot remove, file permissions: /opt/conda/pkgs/cytoolz-0.12.0-py310h5764c6d_1\n",
      "WARNING: cannot remove, file permissions: /opt/conda/pkgs/dask-core-2023.3.0-pyhd8ed1ab_0\n",
      "WARNING: cannot remove, file permissions: /opt/conda/pkgs/dask-gateway-2023.1.1-pyh8af1aa0_0\n",
      "WARNING: cannot remove, file permissions: /opt/conda/pkgs/distributed-2023.3.0-pyhd8ed1ab_0\n",
      "WARNING: cannot remove, file permissions: /opt/conda/pkgs/docutils-0.15.2-py310hff52083_6\n",
      "WARNING: cannot remove, file permissions: /opt/conda/pkgs/fonttools-4.39.0-py310h1fa729e_0\n",
      "WARNING: cannot remove, file permissions: /opt/conda/pkgs/freetype-2.12.1-hca18f0e_1\n",
      "WARNING: cannot remove, file permissions: /opt/conda/pkgs/frozenlist-1.3.3-py310h5764c6d_0\n",
      "WARNING: cannot remove, file permissions: /opt/conda/pkgs/fsspec-2023.3.0-pyhd8ed1ab_1\n",
      "WARNING: cannot remove, file permissions: /opt/conda/pkgs/heapdict-1.0.1-py_0\n",
      "WARNING: cannot remove, file permissions: /opt/conda/pkgs/ipympl-0.9.3-pyhd8ed1ab_0\n",
      "WARNING: cannot remove, file permissions: /opt/conda/pkgs/ipywidgets-7.7.3-pyhd8ed1ab_0\n",
      "WARNING: cannot remove, file permissions: /opt/conda/pkgs/jmespath-1.0.1-pyhd8ed1ab_0\n",
      "WARNING: cannot remove, file permissions: /opt/conda/pkgs/jupyter-resource-usage-0.7.1-pyhd8ed1ab_0\n",
      "WARNING: cannot remove, file permissions: /opt/conda/pkgs/jupyter_contrib_core-0.4.0-pyhd8ed1ab_0\n",
      "WARNING: cannot remove, file permissions: /opt/conda/pkgs/jupyter_contrib_nbextensions-0.7.0-pyhd8ed1ab_0\n",
      "WARNING: cannot remove, file permissions: /opt/conda/pkgs/jupyter_highlight_selected_word-0.2.0-py310hff52083_1005\n",
      "WARNING: cannot remove, file permissions: /opt/conda/pkgs/jupyter_latex_envs-1.4.6-pyhd8ed1ab_1002\n",
      "WARNING: cannot remove, file permissions: /opt/conda/pkgs/jupyter_nbextensions_configurator-0.6.1-pyhd8ed1ab_0\n",
      "WARNING: cannot remove, file permissions: /opt/conda/pkgs/jupyterlab-spellchecker-0.7.2-pyhd8ed1ab_0\n",
      "WARNING: cannot remove, file permissions: /opt/conda/pkgs/jupyterlab_widgets-1.1.2-pyhd8ed1ab_0\n",
      "WARNING: cannot remove, file permissions: /opt/conda/pkgs/kernda-0.3.0-py_1\n",
      "WARNING: cannot remove, file permissions: /opt/conda/pkgs/kiwisolver-1.4.4-py310hbf28c38_1\n",
      "WARNING: cannot remove, file permissions: /opt/conda/pkgs/lcms2-2.15-haa2dc70_1\n",
      "WARNING: cannot remove, file permissions: /opt/conda/pkgs/lerc-4.0.0-h27087fc_0\n",
      "WARNING: cannot remove, file permissions: /opt/conda/pkgs/libbrotlicommon-1.0.9-h166bdaf_8\n",
      "WARNING: cannot remove, file permissions: /opt/conda/pkgs/libbrotlidec-1.0.9-h166bdaf_8\n",
      "WARNING: cannot remove, file permissions: /opt/conda/pkgs/libbrotlienc-1.0.9-h166bdaf_8\n",
      "WARNING: cannot remove, file permissions: /opt/conda/pkgs/libdeflate-1.17-h0b41bf4_0\n",
      "WARNING: cannot remove, file permissions: /opt/conda/pkgs/libgfortran5-12.2.0-h337968e_19\n",
      "WARNING: cannot remove, file permissions: /opt/conda/pkgs/libjpeg-turbo-2.1.5.1-h0b41bf4_0\n",
      "WARNING: cannot remove, file permissions: /opt/conda/pkgs/libopenblas-0.3.21-pthreads_h78a6416_3\n",
      "WARNING: cannot remove, file permissions: /opt/conda/pkgs/libpng-1.6.39-h753d276_0\n",
      "WARNING: cannot remove, file permissions: /opt/conda/pkgs/libtiff-4.5.0-hddfeb54_5\n",
      "WARNING: cannot remove, file permissions: /opt/conda/pkgs/libwebp-base-1.2.4-h166bdaf_0\n",
      "WARNING: cannot remove, file permissions: /opt/conda/pkgs/libxcb-1.13-h7f98852_1004\n",
      "WARNING: cannot remove, file permissions: /opt/conda/pkgs/locket-1.0.0-pyhd8ed1ab_0\n",
      "WARNING: cannot remove, file permissions: /opt/conda/pkgs/lz4-4.3.2-py310h0cfdcf0_0\n",
      "WARNING: cannot remove, file permissions: /opt/conda/pkgs/matplotlib-base-3.7.1-py310he60537e_0\n",
      "WARNING: cannot remove, file permissions: /opt/conda/pkgs/msgpack-python-1.0.5-py310hdf3cbec_0\n",
      "WARNING: cannot remove, file permissions: /opt/conda/pkgs/multidict-6.0.4-py310h1fa729e_0\n",
      "WARNING: cannot remove, file permissions: /opt/conda/pkgs/munkres-1.1.4-pyh9f0ad1d_0\n",
      "WARNING: cannot remove, file permissions: /opt/conda/pkgs/nb_conda_kernels-2.3.1-py310hff52083_2\n",
      "WARNING: cannot remove, file permissions: /opt/conda/pkgs/numpy-1.24.2-py310h8deb116_0\n",
      "WARNING: cannot remove, file permissions: /opt/conda/pkgs/openjpeg-2.5.0-hfec8fc6_2\n",
      "WARNING: cannot remove, file permissions: /opt/conda/pkgs/pandas-1.5.3-py310h9b08913_0\n",
      "WARNING: cannot remove, file permissions: /opt/conda/pkgs/partd-1.3.0-pyhd8ed1ab_0\n",
      "WARNING: cannot remove, file permissions: /opt/conda/pkgs/pillow-9.4.0-py310h065c6d2_2\n",
      "WARNING: cannot remove, file permissions: /opt/conda/pkgs/plotly-5.13.1-pyhd8ed1ab_0\n",
      "WARNING: cannot remove, file permissions: /opt/conda/pkgs/pyasn1-0.4.8-py_0\n",
      "WARNING: cannot remove, file permissions: /opt/conda/pkgs/pyopenssl-23.0.0-pyhd8ed1ab_0\n",
      "WARNING: cannot remove, file permissions: /opt/conda/pkgs/pyyaml-5.4.1-py310h5764c6d_4\n",
      "WARNING: cannot remove, file permissions: /opt/conda/pkgs/rsa-4.7.2-pyh44b312d_0\n",
      "WARNING: cannot remove, file permissions: /opt/conda/pkgs/s3transfer-0.6.0-pyhd8ed1ab_0\n",
      "WARNING: cannot remove, file permissions: /opt/conda/pkgs/sortedcontainers-2.4.0-pyhd8ed1ab_0\n",
      "WARNING: cannot remove, file permissions: /opt/conda/pkgs/tblib-1.7.0-pyhd8ed1ab_0\n",
      "WARNING: cannot remove, file permissions: /opt/conda/pkgs/tenacity-8.2.2-pyhd8ed1ab_0\n",
      "WARNING: cannot remove, file permissions: /opt/conda/pkgs/unicodedata2-15.0.0-py310h5764c6d_0\n",
      "WARNING: cannot remove, file permissions: /opt/conda/pkgs/widgetsnbextension-3.6.1-pyha770c72_0\n",
      "WARNING: cannot remove, file permissions: /opt/conda/pkgs/xorg-libxau-1.0.9-h7f98852_0\n",
      "WARNING: cannot remove, file permissions: /opt/conda/pkgs/xorg-libxdmcp-1.1.3-h7f98852_0\n",
      "WARNING: cannot remove, file permissions: /opt/conda/pkgs/xyzservices-2023.2.0-pyhd8ed1ab_0\n",
      "WARNING: cannot remove, file permissions: /opt/conda/pkgs/yarl-1.8.2-py310h5764c6d_0\n",
      "WARNING: cannot remove, file permissions: /opt/conda/pkgs/zict-2.2.0-pyhd8ed1ab_0\n"
     ]
    }
   ],
   "source": [
    "!mamba clean -p -t --yes"
   ]
  },
  {
   "cell_type": "markdown",
   "metadata": {
    "pycharm": {
     "name": "#%% md\n"
    }
   },
   "source": [
    "*Create_OSL_Conda_Environments.ipynb - Version 1.2.1 - March 2023*\n",
    "\n",
    "*Version Changes:*\n",
    "- *add instructions for creating custom `environment.yaml` files and shell scripts*\n",
    "- *move shell scripts to `Scripts` directory*"
   ]
  }
 ],
 "metadata": {
  "kernelspec": {
   "display_name": "base",
   "language": "python",
   "name": "python3"
  },
  "language_info": {
   "codemirror_mode": {
    "name": "ipython",
    "version": 3
   },
   "file_extension": ".py",
   "mimetype": "text/x-python",
   "name": "python",
   "nbconvert_exporter": "python",
   "pygments_lexer": "ipython3",
   "version": "3.10.6"
  }
 },
 "nbformat": 4,
 "nbformat_minor": 4
}
